{
 "cells": [
  {
   "cell_type": "code",
   "execution_count": 16,
   "id": "8b245da8",
   "metadata": {},
   "outputs": [],
   "source": [
    "import typing as tp\n",
    "import numpy as np\n",
    "import pandas as pd\n",
    "import os\n",
    "\n",
    "from collections import defaultdict\n",
    "from tqdm import tqdm\n",
    "import torch.optim as optim\n",
    "import matplotlib.pyplot as plt\n",
    "\n",
    "import torch\n",
    "import torch.nn as nn\n",
    "import torch.nn.functional as F\n",
    "import re\n",
    "#device = 'cuda:0' if torch.cuda.is_available() else 'cpu'"
   ]
  },
  {
   "cell_type": "markdown",
   "id": "949155d1",
   "metadata": {},
   "source": [
    "## Load Data"
   ]
  },
  {
   "cell_type": "code",
   "execution_count": 62,
   "id": "2dd9a1ea",
   "metadata": {},
   "outputs": [
    {
     "data": {
      "text/html": [
       "<div>\n",
       "<style scoped>\n",
       "    .dataframe tbody tr th:only-of-type {\n",
       "        vertical-align: middle;\n",
       "    }\n",
       "\n",
       "    .dataframe tbody tr th {\n",
       "        vertical-align: top;\n",
       "    }\n",
       "\n",
       "    .dataframe thead th {\n",
       "        text-align: right;\n",
       "    }\n",
       "</style>\n",
       "<table border=\"1\" class=\"dataframe\">\n",
       "  <thead>\n",
       "    <tr style=\"text-align: right;\">\n",
       "      <th></th>\n",
       "      <th>row ID</th>\n",
       "      <th>Tweet</th>\n",
       "      <th>Time</th>\n",
       "      <th>Retweet from</th>\n",
       "      <th>User</th>\n",
       "    </tr>\n",
       "  </thead>\n",
       "  <tbody>\n",
       "    <tr>\n",
       "      <th>0</th>\n",
       "      <td>Row0</td>\n",
       "      <td>@MeltingIce Assuming max acceleration of 2 to ...</td>\n",
       "      <td>2017-09-29 17:39:19</td>\n",
       "      <td>NaN</td>\n",
       "      <td>elonmusk</td>\n",
       "    </tr>\n",
       "    <tr>\n",
       "      <th>1</th>\n",
       "      <td>Row1</td>\n",
       "      <td>RT @SpaceX: BFR is capable of transporting sat...</td>\n",
       "      <td>2017-09-29 10:44:54</td>\n",
       "      <td>SpaceX</td>\n",
       "      <td>elonmusk</td>\n",
       "    </tr>\n",
       "    <tr>\n",
       "      <th>2</th>\n",
       "      <td>Row2</td>\n",
       "      <td>@bigajm Yup :)</td>\n",
       "      <td>2017-09-29 10:39:57</td>\n",
       "      <td>NaN</td>\n",
       "      <td>elonmusk</td>\n",
       "    </tr>\n",
       "    <tr>\n",
       "      <th>3</th>\n",
       "      <td>Row3</td>\n",
       "      <td>Part 2 https://t.co/8Fvu57muhM</td>\n",
       "      <td>2017-09-29 09:56:12</td>\n",
       "      <td>NaN</td>\n",
       "      <td>elonmusk</td>\n",
       "    </tr>\n",
       "    <tr>\n",
       "      <th>4</th>\n",
       "      <td>Row4</td>\n",
       "      <td>Fly to most places on Earth in under 30 mins a...</td>\n",
       "      <td>2017-09-29 09:19:21</td>\n",
       "      <td>NaN</td>\n",
       "      <td>elonmusk</td>\n",
       "    </tr>\n",
       "  </tbody>\n",
       "</table>\n",
       "</div>"
      ],
      "text/plain": [
       "  row ID                                              Tweet  \\\n",
       "0   Row0  @MeltingIce Assuming max acceleration of 2 to ...   \n",
       "1   Row1  RT @SpaceX: BFR is capable of transporting sat...   \n",
       "2   Row2                                     @bigajm Yup :)   \n",
       "3   Row3                     Part 2 https://t.co/8Fvu57muhM   \n",
       "4   Row4  Fly to most places on Earth in under 30 mins a...   \n",
       "\n",
       "                  Time Retweet from      User  \n",
       "0  2017-09-29 17:39:19          NaN  elonmusk  \n",
       "1  2017-09-29 10:44:54       SpaceX  elonmusk  \n",
       "2  2017-09-29 10:39:57          NaN  elonmusk  \n",
       "3  2017-09-29 09:56:12          NaN  elonmusk  \n",
       "4  2017-09-29 09:19:21          NaN  elonmusk  "
      ]
     },
     "execution_count": 62,
     "metadata": {},
     "output_type": "execute_result"
    }
   ],
   "source": [
    "data = pd.read_csv('/home/iris/paulshab/Mynalabs_NLP/data/data_elonmusk.csv', encoding='windows-1252')\n",
    "df = data\n",
    "data.head()"
   ]
  },
  {
   "cell_type": "markdown",
   "id": "b135e6ce",
   "metadata": {},
   "source": [
    "## Hashtag Extraction using Regex"
   ]
  },
  {
   "cell_type": "code",
   "execution_count": 63,
   "id": "acf3af99",
   "metadata": {},
   "outputs": [
    {
     "data": {
      "text/html": [
       "<div>\n",
       "<style scoped>\n",
       "    .dataframe tbody tr th:only-of-type {\n",
       "        vertical-align: middle;\n",
       "    }\n",
       "\n",
       "    .dataframe tbody tr th {\n",
       "        vertical-align: top;\n",
       "    }\n",
       "\n",
       "    .dataframe thead th {\n",
       "        text-align: right;\n",
       "    }\n",
       "</style>\n",
       "<table border=\"1\" class=\"dataframe\">\n",
       "  <thead>\n",
       "    <tr style=\"text-align: right;\">\n",
       "      <th></th>\n",
       "      <th>row ID</th>\n",
       "      <th>Tweet</th>\n",
       "      <th>Time</th>\n",
       "      <th>Retweet from</th>\n",
       "      <th>User</th>\n",
       "    </tr>\n",
       "  </thead>\n",
       "  <tbody>\n",
       "    <tr>\n",
       "      <th>538</th>\n",
       "      <td>Row538</td>\n",
       "      <td>RT @SpaceX: Falcon 9 and Dragon on Pad 39A at ...</td>\n",
       "      <td>2017-06-01 19:28:45</td>\n",
       "      <td>SpaceX</td>\n",
       "      <td>elonmusk</td>\n",
       "    </tr>\n",
       "    <tr>\n",
       "      <th>3020</th>\n",
       "      <td>Row3020</td>\n",
       "      <td>Always admired Margaret Thatcher -- she was to...</td>\n",
       "      <td>2013-04-09 03:43:28</td>\n",
       "      <td>NaN</td>\n",
       "      <td>elonmusk</td>\n",
       "    </tr>\n",
       "    <tr>\n",
       "      <th>2535</th>\n",
       "      <td>Row2535</td>\n",
       "      <td>RT @mashable: Scary Smart Video Predicts Autom...</td>\n",
       "      <td>2014-08-19 18:17:02</td>\n",
       "      <td>mashable</td>\n",
       "      <td>elonmusk</td>\n",
       "    </tr>\n",
       "    <tr>\n",
       "      <th>309</th>\n",
       "      <td>Row309</td>\n",
       "      <td>Stop biting my finger dammit \\nhttps://t.co/Xh...</td>\n",
       "      <td>2017-07-08 13:24:06</td>\n",
       "      <td>NaN</td>\n",
       "      <td>elonmusk</td>\n",
       "    </tr>\n",
       "  </tbody>\n",
       "</table>\n",
       "</div>"
      ],
      "text/plain": [
       "       row ID                                              Tweet  \\\n",
       "538    Row538  RT @SpaceX: Falcon 9 and Dragon on Pad 39A at ...   \n",
       "3020  Row3020  Always admired Margaret Thatcher -- she was to...   \n",
       "2535  Row2535  RT @mashable: Scary Smart Video Predicts Autom...   \n",
       "309    Row309  Stop biting my finger dammit \\nhttps://t.co/Xh...   \n",
       "\n",
       "                     Time Retweet from      User  \n",
       "538   2017-06-01 19:28:45       SpaceX  elonmusk  \n",
       "3020  2013-04-09 03:43:28          NaN  elonmusk  \n",
       "2535  2014-08-19 18:17:02     mashable  elonmusk  \n",
       "309   2017-07-08 13:24:06          NaN  elonmusk  "
      ]
     },
     "execution_count": 63,
     "metadata": {},
     "output_type": "execute_result"
    }
   ],
   "source": [
    "df.sample(4)"
   ]
  },
  {
   "cell_type": "code",
   "execution_count": 67,
   "id": "d7645b52",
   "metadata": {},
   "outputs": [],
   "source": [
    "df['hashtag'] = df['Tweet'].apply(lambda x: re.findall(r\"#(\\w+)\", x))"
   ]
  },
  {
   "cell_type": "markdown",
   "id": "762ecc86",
   "metadata": {},
   "source": [
    "## Tweet Processing Libaray"
   ]
  },
  {
   "cell_type": "code",
   "execution_count": null,
   "id": "b70479bd",
   "metadata": {},
   "outputs": [],
   "source": [
    "# #installing tweet-preprocessor\n",
    "!pip install tweet-preprocessor"
   ]
  },
  {
   "cell_type": "code",
   "execution_count": 42,
   "id": "b45add7e",
   "metadata": {},
   "outputs": [
    {
     "name": "stdout",
     "output_type": "stream",
     "text": [
      "Reading twitter - 1grams ...\n",
      "Reading twitter - 2grams ...\n"
     ]
    }
   ],
   "source": [
    "from ekphrasis.classes.segmenter import Segmenter\n",
    "import preprocessor as p\n",
    "#segmenter using the word statistics from Twitter\n",
    "seg_tw = Segmenter(corpus=\"twitter\")"
   ]
  },
  {
   "cell_type": "code",
   "execution_count": 64,
   "id": "e8303cfe",
   "metadata": {},
   "outputs": [],
   "source": [
    "#forming a separate feature for cleaned tweets\n",
    "for i,v in enumerate(df['Tweet']):  # i --> num of tweet, v = tweet\n",
    "    df.loc[i,'Cleaned_Tweet'] = p.clean(v)"
   ]
  },
  {
   "cell_type": "markdown",
   "id": "f6b5c8f2",
   "metadata": {},
   "source": [
    "## Tokenization , Removal of Digits, Stop Words and Punctuations\n"
   ]
  },
  {
   "cell_type": "code",
   "execution_count": 110,
   "id": "2e56743c",
   "metadata": {},
   "outputs": [
    {
     "name": "stderr",
     "output_type": "stream",
     "text": [
      "[nltk_data] Downloading package wordnet to /home/iris/nltk_data...\n",
      "[nltk_data]   Unzipping corpora/wordnet.zip.\n",
      "[nltk_data] Downloading package stopwords to /home/iris/nltk_data...\n",
      "[nltk_data]   Package stopwords is already up-to-date!\n"
     ]
    }
   ],
   "source": [
    "#important libraries for preprocessing using NLTK\n",
    "import nltk\n",
    "from nltk import word_tokenize, FreqDist\n",
    "from nltk.corpus import stopwords\n",
    "from nltk.stem import WordNetLemmatizer\n",
    "nltk.download\n",
    "nltk.download('wordnet')\n",
    "nltk.download('stopwords')\n",
    "from nltk.tokenize import TweetTokenizer\n"
   ]
  },
  {
   "cell_type": "code",
   "execution_count": 116,
   "id": "fff98eda",
   "metadata": {},
   "outputs": [
    {
     "name": "stderr",
     "output_type": "stream",
     "text": [
      "/home/iris/paulshab/NLP_env/nlp_environ/lib/python3.7/site-packages/ipykernel_launcher.py:2: FutureWarning: The default value of regex will change from True to False in a future version.\n",
      "  \n"
     ]
    }
   ],
   "source": [
    "# Remove Digits and lower the text\n",
    "df['Cleaned_Tweet'] = df['Cleaned_Tweet'].astype(str).str.replace('\\d+', '')\n",
    "df['Cleaned_Tweet'] = df['Cleaned_Tweet'].str.lower()"
   ]
  },
  {
   "cell_type": "code",
   "execution_count": 124,
   "id": "d97a306f",
   "metadata": {},
   "outputs": [
    {
     "data": {
      "text/html": [
       "<div>\n",
       "<style scoped>\n",
       "    .dataframe tbody tr th:only-of-type {\n",
       "        vertical-align: middle;\n",
       "    }\n",
       "\n",
       "    .dataframe tbody tr th {\n",
       "        vertical-align: top;\n",
       "    }\n",
       "\n",
       "    .dataframe thead th {\n",
       "        text-align: right;\n",
       "    }\n",
       "</style>\n",
       "<table border=\"1\" class=\"dataframe\">\n",
       "  <thead>\n",
       "    <tr style=\"text-align: right;\">\n",
       "      <th></th>\n",
       "      <th>row ID</th>\n",
       "      <th>Tweet</th>\n",
       "      <th>Time</th>\n",
       "      <th>Retweet from</th>\n",
       "      <th>User</th>\n",
       "      <th>Cleaned_Tweet</th>\n",
       "      <th>hashtag</th>\n",
       "    </tr>\n",
       "  </thead>\n",
       "  <tbody>\n",
       "    <tr>\n",
       "      <th>1613</th>\n",
       "      <td>Row1613</td>\n",
       "      <td>RT @SpaceX: Targeting launch tomorrow of @Eute...</td>\n",
       "      <td>2016-06-15 10:37:53</td>\n",
       "      <td>SpaceX</td>\n",
       "      <td>elonmusk</td>\n",
       "      <td>: targeting launch tomorrow of &amp; abs communica...</td>\n",
       "      <td>[]</td>\n",
       "    </tr>\n",
       "    <tr>\n",
       "      <th>439</th>\n",
       "      <td>Row439</td>\n",
       "      <td>@ID_AA_Carmack @mmeijeri The faster, the bette...</td>\n",
       "      <td>2017-06-10 01:27:37</td>\n",
       "      <td>NaN</td>\n",
       "      <td>elonmusk</td>\n",
       "      <td>the faster, the better. gravity losses.</td>\n",
       "      <td>[]</td>\n",
       "    </tr>\n",
       "    <tr>\n",
       "      <th>1228</th>\n",
       "      <td>Row1228</td>\n",
       "      <td>Unveil happening at sunset, because that's whe...</td>\n",
       "      <td>2016-10-28 02:37:44</td>\n",
       "      <td>NaN</td>\n",
       "      <td>elonmusk</td>\n",
       "      <td>unveil happening at sunset, because that's whe...</td>\n",
       "      <td>[]</td>\n",
       "    </tr>\n",
       "    <tr>\n",
       "      <th>2458</th>\n",
       "      <td>Row2458</td>\n",
       "      <td>Nothing against all the oatmeal-raisin cookies...</td>\n",
       "      <td>2014-12-21 01:55:27</td>\n",
       "      <td>NaN</td>\n",
       "      <td>elonmusk</td>\n",
       "      <td>nothing against all the oatmeal-raisin cookies...</td>\n",
       "      <td>[]</td>\n",
       "    </tr>\n",
       "  </tbody>\n",
       "</table>\n",
       "</div>"
      ],
      "text/plain": [
       "       row ID                                              Tweet  \\\n",
       "1613  Row1613  RT @SpaceX: Targeting launch tomorrow of @Eute...   \n",
       "439    Row439  @ID_AA_Carmack @mmeijeri The faster, the bette...   \n",
       "1228  Row1228  Unveil happening at sunset, because that's whe...   \n",
       "2458  Row2458  Nothing against all the oatmeal-raisin cookies...   \n",
       "\n",
       "                     Time Retweet from      User  \\\n",
       "1613  2016-06-15 10:37:53       SpaceX  elonmusk   \n",
       "439   2017-06-10 01:27:37          NaN  elonmusk   \n",
       "1228  2016-10-28 02:37:44          NaN  elonmusk   \n",
       "2458  2014-12-21 01:55:27          NaN  elonmusk   \n",
       "\n",
       "                                          Cleaned_Tweet hashtag  \n",
       "1613  : targeting launch tomorrow of & abs communica...      []  \n",
       "439             the faster, the better. gravity losses.      []  \n",
       "1228  unveil happening at sunset, because that's whe...      []  \n",
       "2458  nothing against all the oatmeal-raisin cookies...      []  "
      ]
     },
     "execution_count": 124,
     "metadata": {},
     "output_type": "execute_result"
    }
   ],
   "source": [
    "df.sample(4)"
   ]
  },
  {
   "cell_type": "code",
   "execution_count": 127,
   "id": "10a98e53",
   "metadata": {},
   "outputs": [
    {
     "data": {
      "text/plain": [
       "3211    btw, i don't think apple is doomed. just won't...\n",
       "Name: Cleaned_Tweet, dtype: object"
      ]
     },
     "execution_count": 127,
     "metadata": {},
     "output_type": "execute_result"
    }
   ],
   "source": [
    "df.iloc[[3211]]['Cleaned_Tweet']"
   ]
  },
  {
   "cell_type": "code",
   "execution_count": 135,
   "id": "09c0034a",
   "metadata": {},
   "outputs": [
    {
     "data": {
      "text/plain": [
       "'these articles in space news describe why ariane vs : and'"
      ]
     },
     "execution_count": 135,
     "metadata": {},
     "output_type": "execute_result"
    }
   ],
   "source": [
    "data.iloc[3214,5]"
   ]
  },
  {
   "cell_type": "code",
   "execution_count": 136,
   "id": "aaef5219",
   "metadata": {},
   "outputs": [
    {
     "data": {
      "text/plain": [
       "'These articles in Space News describe why Ariane 6 vs 5: http://t.co/IaeYXXK9 and http://t.co/ghs3FG8w'"
      ]
     },
     "execution_count": 136,
     "metadata": {},
     "output_type": "execute_result"
    }
   ],
   "source": [
    "data.iloc[3214,1]"
   ]
  },
  {
   "cell_type": "code",
   "execution_count": 137,
   "id": "5047e0fd",
   "metadata": {},
   "outputs": [
    {
     "data": {
      "text/plain": [
       "3218"
      ]
     },
     "execution_count": 137,
     "metadata": {},
     "output_type": "execute_result"
    }
   ],
   "source": [
    "len(data)"
   ]
  },
  {
   "cell_type": "markdown",
   "id": "82103872",
   "metadata": {},
   "source": [
    "### Operations\n",
    "- deleted hashtags ( not always good)\n",
    "- used tweet-preprocessor removes\n",
    "    - URLs   \n",
    "    - Hashtags\n",
    "    - Mentions\n",
    "    - Reserved words (RT, FAV)\n",
    "    - Emojis\n",
    "    - Smileys\n",
    "- removed numbers\n",
    "- converted to lower\n",
    "\n",
    "### Questions\n",
    "- should you fill in Abbreviations (btw, imho ..)\n",
    "- Should you use Lemmatization?\n",
    "- should you use Stop Words?\n"
   ]
  },
  {
   "cell_type": "code",
   "execution_count": null,
   "id": "a3486a2a",
   "metadata": {},
   "outputs": [],
   "source": []
  },
  {
   "cell_type": "code",
   "execution_count": null,
   "id": "674f9f83",
   "metadata": {},
   "outputs": [],
   "source": []
  }
 ],
 "metadata": {
  "kernelspec": {
   "display_name": "nlp_environ",
   "language": "python",
   "name": "nlp_environ"
  },
  "language_info": {
   "codemirror_mode": {
    "name": "ipython",
    "version": 3
   },
   "file_extension": ".py",
   "mimetype": "text/x-python",
   "name": "python",
   "nbconvert_exporter": "python",
   "pygments_lexer": "ipython3",
   "version": "3.7.6"
  }
 },
 "nbformat": 4,
 "nbformat_minor": 5
}
